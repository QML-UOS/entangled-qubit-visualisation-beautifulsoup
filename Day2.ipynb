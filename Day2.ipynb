{
 "cells": [
  {
   "cell_type": "code",
   "execution_count": 1,
   "metadata": {},
   "outputs": [],
   "source": [
    "import re\n",
    "\n",
    "MATH_MODULE = __import__('math')\n",
    "ALLOWED_FUNCTIONS = {name: getattr(MATH_MODULE, name) for name in dir(MATH_MODULE) if name[0] != '_'}\n",
    "    \n",
    "class Expression:\n",
    "    def __init__(self, expression):\n",
    "        simplified = re.sub(\"O\\((.+)\\)\", \"\\\\1\", expression)\n",
    "        simplified = simplified.replace(\"N\", \"n\")\n",
    "        self.expression = simplified\n",
    "        \n",
    "    def execute(self, n):\n",
    "        expression_python = self.expression.replace('n', str(n))\n",
    "        \n",
    "        try:\n",
    "            return int(eval(\n",
    "                expression_python,\n",
    "                {\n",
    "                    \"__builtins__\" : None\n",
    "                }, \n",
    "                ALLOWED_FUNCTIONS\n",
    "            ))\n",
    "        except OverflowError:\n",
    "            raise OverflowError(\"Unable to evaluate '{}' due to its size.\".format(expression_python))"
   ]
  },
  {
   "cell_type": "code",
   "execution_count": 22,
   "metadata": {},
   "outputs": [
    {
     "data": {
      "application/vnd.jupyter.widget-view+json": {
       "model_id": "6e14978b345849eab1e9d6ffd99c92a6",
       "version_major": 2,
       "version_minor": 0
      },
      "text/plain": [
       "HBox(children=(VBox(children=(Text(value='O(n^3)', description='Quantum complexity:', placeholder='Please ente…"
      ]
     },
     "metadata": {},
     "output_type": "display_data"
    }
   ],
   "source": [
    "import ipywidgets as widgets\n",
    "from IPython.display import display\n",
    "import matplotlib.pyplot as plt\n",
    "\n",
    "def generate_plot(expression_normal, expression_quantum, x_scale, y_scale, x_values, output):\n",
    "    values_normal = [expression_normal.execute(x) for x in x_values]\n",
    "    values_quantum = [expression_quantum.execute(x) for x in x_values]\n",
    "    \n",
    "    fig, ax = plt.subplots()\n",
    "    ax.plot(x_values, values_normal, 'ro', label='Standart')\n",
    "    ax.plot(x_values, values_quantum, 'go', label='Quantum')\n",
    "\n",
    "    ax.set(\n",
    "        xlabel='Number of inputs N', \n",
    "        ylabel='o-notation',\n",
    "        title='Quantum speedup factoring'\n",
    "    )\n",
    "\n",
    "    ax.grid()\n",
    "    ax.legend()\n",
    "    \n",
    "    with output:\n",
    "        plt.plot()\n",
    "        \n",
    "ui = {\n",
    "    \"output\": widgets.Output(),\n",
    "    \"text_complexity_quantum\": widgets.Text(\n",
    "        value='O(n^3)',\n",
    "        placeholder='Please enter O(...).',\n",
    "        description='Quantum complexity:',\n",
    "        disabled=False\n",
    "    ),\n",
    "    \"text_complexity_normal\": widgets.Text(\n",
    "        value='O(2 ** (n*log(log(n))))',\n",
    "        placeholder='Please enter O(...).',\n",
    "        description='Classic complexity:',\n",
    "        disabled=False\n",
    "    ),\n",
    "    \"text_time_per_steps_in_sec\": widgets.Text(\n",
    "    value='1000',\n",
    "    placeholder='Please enter the time per step.',\n",
    "    description='Time per step:',\n",
    "    disabled=False\n",
    "    ),\n",
    "    \"radio_buttons_for_y_scale\": widgets.RadioButtons(\n",
    "        options=['Absolute Complexity', 'Complexity Difference', 'Complexity Ratio', 'Time'],\n",
    "        description='Y-Scale:',\n",
    "        disabled=False\n",
    "    ),\n",
    "    \"button_calculate\": widgets.Button(\n",
    "        description='Calculate',\n",
    "        disabled=False,\n",
    "        button_style='success',\n",
    "        tooltip='Calculate value',\n",
    "        icon='check'\n",
    "    )\n",
    "}\n",
    "\n",
    "layout = widgets.HBox([\n",
    "   widgets.VBox([\n",
    "       ui['text_complexity_quantum'],\n",
    "       ui['text_complexity_normal'],\n",
    "       ui['text_time_per_steps_in_sec'],\n",
    "       ui['button_calculate']\n",
    "   ]),\n",
    "    widgets.VBox([\n",
    "        ui['radio_buttons_for_y_scale'],\n",
    "    ])\n",
    "\n",
    "])\n",
    "\n",
    "def on_button_clicked(_):\n",
    "    expression_classic = Expression(ui['text_complexity_normal'].value)    \n",
    "    expression_quantum = Expression(ui['text_complexity_quantum'].value)\n",
    "    x_scale = Expression(ui['radio_buttons_for_x_scale'].value)\n",
    "    y_scale = Expression(ui['radio_buttons_for_y_scale'].value)\n",
    "    values = [2 ** i for i in range(1, 10)]\n",
    "    generate_plot(expression_classic, expression_quantum, x_scale, y_scale, values, ui['output'])\n",
    "    \n",
    "ui[\"button_calculate\"].on_click(on_button_clicked)\n",
    "display(layout)"
   ]
  },
  {
   "cell_type": "code",
   "execution_count": null,
   "metadata": {},
   "outputs": [],
   "source": []
  }
 ],
 "metadata": {
  "kernelspec": {
   "display_name": "Python 3",
   "language": "python",
   "name": "python3"
  },
  "language_info": {
   "codemirror_mode": {
    "name": "ipython",
    "version": 3
   },
   "file_extension": ".py",
   "mimetype": "text/x-python",
   "name": "python",
   "nbconvert_exporter": "python",
   "pygments_lexer": "ipython3",
   "version": "3.6.5"
  }
 },
 "nbformat": 4,
 "nbformat_minor": 2
}
